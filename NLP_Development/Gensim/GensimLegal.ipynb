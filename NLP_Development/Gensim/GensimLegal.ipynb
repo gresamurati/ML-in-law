{
 "cells": [
  {
   "cell_type": "markdown",
   "metadata": {},
   "source": [
    "conda install -c conda-forge gensim"
   ]
  },
  {
   "cell_type": "code",
   "execution_count": 1,
   "metadata": {},
   "outputs": [],
   "source": [
    "import pprint"
   ]
  },
  {
   "cell_type": "code",
   "execution_count": 2,
   "metadata": {},
   "outputs": [],
   "source": [
    "# Create a set of frequent words\n",
    "stoplist = set('for a of the and to in with also that'.split(' '))"
   ]
  },
  {
   "cell_type": "code",
   "execution_count": 3,
   "metadata": {},
   "outputs": [
    {
     "data": {
      "text/plain": [
       "{'a', 'also', 'and', 'for', 'in', 'of', 'that', 'the', 'to', 'with'}"
      ]
     },
     "execution_count": 3,
     "metadata": {},
     "output_type": "execute_result"
    }
   ],
   "source": [
    "stoplist"
   ]
  },
  {
   "cell_type": "code",
   "execution_count": 4,
   "metadata": {},
   "outputs": [],
   "source": [
    "#from collections import defaultdict\n",
    "#from gensim import corpora\n",
    "#from collections import defaultdict\n",
    "#from gensim import corpora\n",
    "#from gensim import models\n",
    "#from gensim import similarities"
   ]
  },
  {
   "cell_type": "code",
   "execution_count": 5,
   "metadata": {},
   "outputs": [],
   "source": [
    "legal_document = \"\""
   ]
  },
  {
   "cell_type": "code",
   "execution_count": 6,
   "metadata": {},
   "outputs": [],
   "source": [
    "example = \"Thomas Jefferson defeated John Adams in the presidential election of 1800, which was decided on February 17, 1801. Before Jefferson took office on March 4, Adams and Congress passed the Judiciary Act of 1801, which created new district courts, expanded the number of circuit courts, added more judges to each circuit, gave the President more control over appointing federal judges, and reduced the number of Supreme Court Justices from six to five. This law essentially was an attempt by Adams and his political party to frustrate the incoming opposition, since he used his new power to appoint 16 new circuit judges and 42 new justices of the peace, a group known as the \"\"Midnight Judges.\"\" The incoming appointees were approved by the Adams Senate, but their appointments were not valid until each of their commissions was delivered by John Marshall in his capacity as acting Secretary of State.\""
   ]
  },
  {
   "cell_type": "code",
   "execution_count": 7,
   "metadata": {},
   "outputs": [
    {
     "data": {
      "text/plain": [
       "'Thomas Jefferson defeated John Adams in the presidential election of 1800, which was decided on February 17, 1801. Before Jefferson took office on March 4, Adams and Congress passed the Judiciary Act of 1801, which created new district courts, expanded the number of circuit courts, added more judges to each circuit, gave the President more control over appointing federal judges, and reduced the number of Supreme Court Justices from six to five. This law essentially was an attempt by Adams and his political party to frustrate the incoming opposition, since he used his new power to appoint 16 new circuit judges and 42 new justices of the peace, a group known as the Midnight Judges. The incoming appointees were approved by the Adams Senate, but their appointments were not valid until each of their commissions was delivered by John Marshall in his capacity as acting Secretary of State.'"
      ]
     },
     "execution_count": 7,
     "metadata": {},
     "output_type": "execute_result"
    }
   ],
   "source": [
    "example"
   ]
  },
  {
   "cell_type": "code",
   "execution_count": 8,
   "metadata": {},
   "outputs": [],
   "source": [
    "legal_document = example"
   ]
  },
  {
   "cell_type": "code",
   "execution_count": 9,
   "metadata": {},
   "outputs": [],
   "source": [
    "text_list = list(legal_document.split('.'))"
   ]
  },
  {
   "cell_type": "code",
   "execution_count": 10,
   "metadata": {},
   "outputs": [
    {
     "data": {
      "text/plain": [
       "['Thomas Jefferson defeated John Adams in the presidential election of 1800, which was decided on February 17, 1801',\n",
       " ' Before Jefferson took office on March 4, Adams and Congress passed the Judiciary Act of 1801, which created new district courts, expanded the number of circuit courts, added more judges to each circuit, gave the President more control over appointing federal judges, and reduced the number of Supreme Court Justices from six to five',\n",
       " ' This law essentially was an attempt by Adams and his political party to frustrate the incoming opposition, since he used his new power to appoint 16 new circuit judges and 42 new justices of the peace, a group known as the Midnight Judges',\n",
       " ' The incoming appointees were approved by the Adams Senate, but their appointments were not valid until each of their commissions was delivered by John Marshall in his capacity as acting Secretary of State',\n",
       " '']"
      ]
     },
     "execution_count": 10,
     "metadata": {},
     "output_type": "execute_result"
    }
   ],
   "source": [
    "text_list"
   ]
  },
  {
   "cell_type": "code",
   "execution_count": 11,
   "metadata": {},
   "outputs": [],
   "source": [
    "text_corpus = text_list"
   ]
  },
  {
   "cell_type": "code",
   "execution_count": 12,
   "metadata": {},
   "outputs": [],
   "source": [
    "# Lowercase each document, split it by white space and filter out stopwords\n",
    "texts = [[word for word in document.lower().split() if word not in stoplist]\n",
    "         for document in text_corpus]"
   ]
  },
  {
   "cell_type": "code",
   "execution_count": 13,
   "metadata": {},
   "outputs": [
    {
     "data": {
      "text/plain": [
       "[['thomas',\n",
       "  'jefferson',\n",
       "  'defeated',\n",
       "  'john',\n",
       "  'adams',\n",
       "  'presidential',\n",
       "  'election',\n",
       "  '1800,',\n",
       "  'which',\n",
       "  'was',\n",
       "  'decided',\n",
       "  'on',\n",
       "  'february',\n",
       "  '17,',\n",
       "  '1801'],\n",
       " ['before',\n",
       "  'jefferson',\n",
       "  'took',\n",
       "  'office',\n",
       "  'on',\n",
       "  'march',\n",
       "  '4,',\n",
       "  'adams',\n",
       "  'congress',\n",
       "  'passed',\n",
       "  'judiciary',\n",
       "  'act',\n",
       "  '1801,',\n",
       "  'which',\n",
       "  'created',\n",
       "  'new',\n",
       "  'district',\n",
       "  'courts,',\n",
       "  'expanded',\n",
       "  'number',\n",
       "  'circuit',\n",
       "  'courts,',\n",
       "  'added',\n",
       "  'more',\n",
       "  'judges',\n",
       "  'each',\n",
       "  'circuit,',\n",
       "  'gave',\n",
       "  'president',\n",
       "  'more',\n",
       "  'control',\n",
       "  'over',\n",
       "  'appointing',\n",
       "  'federal',\n",
       "  'judges,',\n",
       "  'reduced',\n",
       "  'number',\n",
       "  'supreme',\n",
       "  'court',\n",
       "  'justices',\n",
       "  'from',\n",
       "  'six',\n",
       "  'five'],\n",
       " ['this',\n",
       "  'law',\n",
       "  'essentially',\n",
       "  'was',\n",
       "  'an',\n",
       "  'attempt',\n",
       "  'by',\n",
       "  'adams',\n",
       "  'his',\n",
       "  'political',\n",
       "  'party',\n",
       "  'frustrate',\n",
       "  'incoming',\n",
       "  'opposition,',\n",
       "  'since',\n",
       "  'he',\n",
       "  'used',\n",
       "  'his',\n",
       "  'new',\n",
       "  'power',\n",
       "  'appoint',\n",
       "  '16',\n",
       "  'new',\n",
       "  'circuit',\n",
       "  'judges',\n",
       "  '42',\n",
       "  'new',\n",
       "  'justices',\n",
       "  'peace,',\n",
       "  'group',\n",
       "  'known',\n",
       "  'as',\n",
       "  'midnight',\n",
       "  'judges'],\n",
       " ['incoming',\n",
       "  'appointees',\n",
       "  'were',\n",
       "  'approved',\n",
       "  'by',\n",
       "  'adams',\n",
       "  'senate,',\n",
       "  'but',\n",
       "  'their',\n",
       "  'appointments',\n",
       "  'were',\n",
       "  'not',\n",
       "  'valid',\n",
       "  'until',\n",
       "  'each',\n",
       "  'their',\n",
       "  'commissions',\n",
       "  'was',\n",
       "  'delivered',\n",
       "  'by',\n",
       "  'john',\n",
       "  'marshall',\n",
       "  'his',\n",
       "  'capacity',\n",
       "  'as',\n",
       "  'acting',\n",
       "  'secretary',\n",
       "  'state'],\n",
       " []]"
      ]
     },
     "execution_count": 13,
     "metadata": {},
     "output_type": "execute_result"
    }
   ],
   "source": [
    "texts"
   ]
  },
  {
   "cell_type": "markdown",
   "metadata": {},
   "source": [
    "Before proceeding, we want to associate each word in the corpus with a unique integer ID. \n",
    "We can do this using the gensim.corpora.Dictionary class. \n",
    "This dictionary defines the vocabulary of all words that our processing knows about."
   ]
  },
  {
   "cell_type": "code",
   "execution_count": 14,
   "metadata": {},
   "outputs": [],
   "source": [
    "# Count word frequencies\n",
    "from collections import defaultdict"
   ]
  },
  {
   "cell_type": "code",
   "execution_count": 15,
   "metadata": {},
   "outputs": [],
   "source": [
    "frequency = defaultdict(int)\n",
    "for text in texts:\n",
    "    for token in text:\n",
    "        frequency[token] += 1"
   ]
  },
  {
   "cell_type": "code",
   "execution_count": 16,
   "metadata": {},
   "outputs": [
    {
     "name": "stdout",
     "output_type": "stream",
     "text": [
      "[['jefferson', 'john', 'adams', 'which', 'was', 'on'],\n",
      " ['jefferson',\n",
      "  'on',\n",
      "  'adams',\n",
      "  'which',\n",
      "  'new',\n",
      "  'courts,',\n",
      "  'number',\n",
      "  'circuit',\n",
      "  'courts,',\n",
      "  'more',\n",
      "  'judges',\n",
      "  'each',\n",
      "  'more',\n",
      "  'number',\n",
      "  'justices'],\n",
      " ['was',\n",
      "  'by',\n",
      "  'adams',\n",
      "  'his',\n",
      "  'incoming',\n",
      "  'his',\n",
      "  'new',\n",
      "  'new',\n",
      "  'circuit',\n",
      "  'judges',\n",
      "  'new',\n",
      "  'justices',\n",
      "  'as',\n",
      "  'judges'],\n",
      " ['incoming',\n",
      "  'were',\n",
      "  'by',\n",
      "  'adams',\n",
      "  'their',\n",
      "  'were',\n",
      "  'each',\n",
      "  'their',\n",
      "  'was',\n",
      "  'by',\n",
      "  'john',\n",
      "  'his',\n",
      "  'as'],\n",
      " []]\n"
     ]
    }
   ],
   "source": [
    "# Only keep words that appear more than once\n",
    "processed_corpus = [[token for token in text if frequency[token] > 1] for text in texts]\n",
    "pprint.pprint(processed_corpus)"
   ]
  },
  {
   "cell_type": "code",
   "execution_count": 17,
   "metadata": {},
   "outputs": [],
   "source": [
    "from gensim import corpora"
   ]
  },
  {
   "cell_type": "markdown",
   "metadata": {},
   "source": [
    "Because our corpus is small, there are only 20 different tokens in this gensim.corpora.Dictionary. \n",
    "For larger corpuses, dictionaries that contains hundreds of thousands of tokens are quite common.\n",
    "\n",
    "Our processed corpus has 20 unique words in it, which means that each document will be represented by a 20-dimensional vector under the bag-of-words model. \n",
    "We can use the dictionary to turn tokenized documents into these 20-dimensional vectors. We can see what these IDs correspond to:"
   ]
  },
  {
   "cell_type": "code",
   "execution_count": 32,
   "metadata": {},
   "outputs": [
    {
     "name": "stdout",
     "output_type": "stream",
     "text": [
      "Dictionary(20 unique tokens: ['adams', 'jefferson', 'john', 'on', 'was']...)\n"
     ]
    }
   ],
   "source": [
    "dictionary = corpora.Dictionary(processed_corpus)\n",
    "print(dictionary)"
   ]
  },
  {
   "cell_type": "code",
   "execution_count": 33,
   "metadata": {},
   "outputs": [
    {
     "name": "stdout",
     "output_type": "stream",
     "text": [
      "{'adams': 0,\n",
      " 'as': 14,\n",
      " 'by': 15,\n",
      " 'circuit': 6,\n",
      " 'courts,': 7,\n",
      " 'each': 8,\n",
      " 'his': 16,\n",
      " 'incoming': 17,\n",
      " 'jefferson': 1,\n",
      " 'john': 2,\n",
      " 'judges': 9,\n",
      " 'justices': 10,\n",
      " 'more': 11,\n",
      " 'new': 12,\n",
      " 'number': 13,\n",
      " 'on': 3,\n",
      " 'their': 18,\n",
      " 'was': 4,\n",
      " 'were': 19,\n",
      " 'which': 5}\n"
     ]
    }
   ],
   "source": [
    "pprint.pprint(dictionary.token2id)"
   ]
  },
  {
   "cell_type": "markdown",
   "metadata": {},
   "source": [
    "For example, suppose we wanted to vectorize the phrase “jefferson adams” \n",
    "(note that this phrase was not in our original corpus). \n",
    "We can create the bag-of-word representation for a document using the doc2bow method of the dictionary, \n",
    "which returns a sparse representation of the word counts:"
   ]
  },
  {
   "cell_type": "code",
   "execution_count": 37,
   "metadata": {},
   "outputs": [],
   "source": [
    "new_doc = \"jefferson interaction adams\""
   ]
  },
  {
   "cell_type": "code",
   "execution_count": 38,
   "metadata": {},
   "outputs": [
    {
     "name": "stdout",
     "output_type": "stream",
     "text": [
      "[(0, 1), (1, 1)]\n"
     ]
    }
   ],
   "source": [
    "new_vec = dictionary.doc2bow(new_doc.lower().split())\n",
    "print(new_vec)"
   ]
  },
  {
   "cell_type": "markdown",
   "metadata": {},
   "source": [
    "Explanation\n",
    "\n",
    "The first entry in each tuple corresponds to the ID of the token in the dictionary, \n",
    "the second corresponds to the count of this token.\n",
    "\n",
    "Note that “interaction” did not occur in the original corpus and \n",
    "so it was not included in the vectorization. \n",
    "\n",
    "Also note that this vector only contains entries for words that actually appeared in the document. \n",
    "Because any given document will only contain a few words out of the many words in the dictionary, \n",
    "words that do not appear in the vectorization are represented as implicitly zero as a space saving measure."
   ]
  },
  {
   "cell_type": "code",
   "execution_count": 40,
   "metadata": {},
   "outputs": [
    {
     "name": "stdout",
     "output_type": "stream",
     "text": [
      "[[(0, 1), (1, 1), (2, 1), (3, 1), (4, 1), (5, 1)],\n",
      " [(0, 1),\n",
      "  (1, 1),\n",
      "  (3, 1),\n",
      "  (5, 1),\n",
      "  (6, 1),\n",
      "  (7, 2),\n",
      "  (8, 1),\n",
      "  (9, 1),\n",
      "  (10, 1),\n",
      "  (11, 2),\n",
      "  (12, 1),\n",
      "  (13, 2)],\n",
      " [(0, 1),\n",
      "  (4, 1),\n",
      "  (6, 1),\n",
      "  (9, 2),\n",
      "  (10, 1),\n",
      "  (12, 3),\n",
      "  (14, 1),\n",
      "  (15, 1),\n",
      "  (16, 2),\n",
      "  (17, 1)],\n",
      " [(0, 1),\n",
      "  (2, 1),\n",
      "  (4, 1),\n",
      "  (8, 1),\n",
      "  (14, 1),\n",
      "  (15, 2),\n",
      "  (16, 1),\n",
      "  (17, 1),\n",
      "  (18, 2),\n",
      "  (19, 2)],\n",
      " []]\n"
     ]
    }
   ],
   "source": [
    "bow_corpus = [dictionary.doc2bow(text) for text in processed_corpus]\n",
    "pprint.pprint(bow_corpus)"
   ]
  },
  {
   "cell_type": "code",
   "execution_count": 41,
   "metadata": {},
   "outputs": [],
   "source": [
    "from gensim import models\n",
    "\n",
    "# train the model\n",
    "tfidf = models.TfidfModel(bow_corpus)"
   ]
  },
  {
   "cell_type": "code",
   "execution_count": 42,
   "metadata": {},
   "outputs": [],
   "source": [
    "words = \"judges justices\".lower().split()"
   ]
  },
  {
   "cell_type": "code",
   "execution_count": 43,
   "metadata": {},
   "outputs": [
    {
     "name": "stdout",
     "output_type": "stream",
     "text": [
      "[(9, 0.7071067811865475), (10, 0.7071067811865475)]\n"
     ]
    }
   ],
   "source": [
    "print(tfidf[dictionary.doc2bow(words)])"
   ]
  },
  {
   "cell_type": "code",
   "execution_count": 44,
   "metadata": {},
   "outputs": [],
   "source": [
    "from gensim import similarities\n",
    "\n",
    "index = similarities.SparseMatrixSimilarity(tfidf[bow_corpus], num_features=12)"
   ]
  },
  {
   "cell_type": "code",
   "execution_count": 45,
   "metadata": {},
   "outputs": [
    {
     "data": {
      "text/plain": [
       "<gensim.similarities.docsim.SparseMatrixSimilarity at 0x7fc3f565b490>"
      ]
     },
     "execution_count": 45,
     "metadata": {},
     "output_type": "execute_result"
    }
   ],
   "source": [
    "index"
   ]
  },
  {
   "cell_type": "markdown",
   "metadata": {},
   "source": [
    "### The kernel appears to have died. It will restart automatically."
   ]
  },
  {
   "cell_type": "code",
   "execution_count": 46,
   "metadata": {},
   "outputs": [],
   "source": [
    "query_document = 'supreme judges'.split()\n",
    "query_bow = dictionary.doc2bow(query_document)\n",
    "#sims = index[tfidf[query_bow]]\n",
    "#print(list(enumerate(sims)))\n",
    "\n",
    "sims = tfidf[query_bow]"
   ]
  },
  {
   "cell_type": "code",
   "execution_count": 47,
   "metadata": {},
   "outputs": [
    {
     "data": {
      "text/plain": [
       "[(9, 1.0)]"
      ]
     },
     "execution_count": 47,
     "metadata": {},
     "output_type": "execute_result"
    }
   ],
   "source": [
    "sims"
   ]
  },
  {
   "cell_type": "code",
   "execution_count": 48,
   "metadata": {},
   "outputs": [
    {
     "name": "stdout",
     "output_type": "stream",
     "text": [
      "0 (9, 1.0)\n"
     ]
    }
   ],
   "source": [
    "for document_number, score in sorted(enumerate(sims), key=lambda x: x[1], reverse=True):\n",
    "    print(document_number, score)"
   ]
  },
  {
   "cell_type": "code",
   "execution_count": null,
   "metadata": {},
   "outputs": [],
   "source": []
  }
 ],
 "metadata": {
  "kernelspec": {
   "display_name": "Python 3",
   "language": "python",
   "name": "python3"
  },
  "language_info": {
   "codemirror_mode": {
    "name": "ipython",
    "version": 3
   },
   "file_extension": ".py",
   "mimetype": "text/x-python",
   "name": "python",
   "nbconvert_exporter": "python",
   "pygments_lexer": "ipython3",
   "version": "3.7.6"
  }
 },
 "nbformat": 4,
 "nbformat_minor": 4
}
