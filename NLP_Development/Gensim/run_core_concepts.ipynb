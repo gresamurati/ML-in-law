{
 "cells": [
  {
   "cell_type": "code",
   "execution_count": 1,
   "metadata": {},
   "outputs": [],
   "source": [
    "%matplotlib inline"
   ]
  },
  {
   "cell_type": "markdown",
   "metadata": {},
   "source": [
    "\n",
    "Core Concepts\n",
    "=============\n",
    "\n",
    "This tutorial introduces Documents, Corpora, Vectors and Models: the basic concepts and terms needed to understand and use gensim.\n",
    "\n"
   ]
  },
  {
   "cell_type": "code",
   "execution_count": 2,
   "metadata": {},
   "outputs": [],
   "source": [
    "import pprint"
   ]
  },
  {
   "cell_type": "markdown",
   "metadata": {},
   "source": [
    "The core concepts of ``gensim`` are:\n",
    "\n",
    "1. `core_concepts_document`: some text.\n",
    "2. `core_concepts_corpus`: a collection of documents.\n",
    "3. `core_concepts_vector`: a mathematically convenient representation of a document.\n",
    "4. `core_concepts_model`: an algorithm for transforming vectors from one representation to another.\n",
    "\n",
    "Let's examine each of these in slightly more detail.\n",
    "\n",
    "\n",
    "Document\n",
    "--------\n",
    "\n",
    "In Gensim, a *document* is an object of the `text sequence type <https://docs.python.org/3.7/library/stdtypes.html#text-sequence-type-str>`_ (commonly known as ``str`` in Python 3).\n",
    "A document could be anything from a short 140 character tweet, a single\n",
    "paragraph (i.e., journal article abstract), a news article, or a book.\n",
    "\n",
    "\n"
   ]
  },
  {
   "cell_type": "code",
   "execution_count": 3,
   "metadata": {},
   "outputs": [],
   "source": [
    "document = \"Human machine interface for lab abc computer applications\""
   ]
  },
  {
   "cell_type": "markdown",
   "metadata": {},
   "source": [
    "\n",
    "Corpus\n",
    "------\n",
    "\n",
    "A *corpus* is a collection of `core_concepts_document` objects.\n",
    "Corpora serve two roles in Gensim:\n",
    "\n",
    "1. Input for training a `core_concepts_model`.\n",
    "   During training, the models use this *training corpus* to look for common\n",
    "   themes and topics, initializing their internal model parameters.\n",
    "\n",
    "   Gensim focuses on *unsupervised* models so that no human intervention,\n",
    "   such as costly annotations or tagging documents by hand, is required.\n",
    "\n",
    "2. Documents to organize.\n",
    "   After training, a topic model can be used to extract topics from new\n",
    "   documents (documents not seen in the training corpus).\n",
    "\n",
    "   Such corpora can be indexed for\n",
    "   `sphx_glr_auto_examples_core_run_similarity_queries.py`,\n",
    "   queried by semantic similarity, clustered etc.\n",
    "\n",
    "Here is an example corpus.\n",
    "It consists of 9 documents, where each document is a string consisting of a single sentence.\n",
    "\n",
    "\n"
   ]
  },
  {
   "cell_type": "code",
   "execution_count": 4,
   "metadata": {},
   "outputs": [],
   "source": [
    "text_corpus = [\n",
    "    \"Human machine interface for lab abc computer applications\",\n",
    "    \"A survey of user opinion of computer system response time\",\n",
    "    \"The EPS user interface management system\",\n",
    "    \"System and human system engineering testing of EPS\",\n",
    "    \"Relation of user perceived response time to error measurement\",\n",
    "    \"The generation of random binary unordered trees\",\n",
    "    \"The intersection graph of paths in trees\",\n",
    "    \"Graph minors IV Widths of trees and well quasi ordering\",\n",
    "    \"Graph minors A survey\",\n",
    "]"
   ]
  },
  {
   "cell_type": "markdown",
   "metadata": {},
   "source": [
    ".. Important::\n",
    "  The above example loads the entire corpus into memory.\n",
    "  In practice, corpora may be very large, so loading them into memory may be impossible.\n",
    "  Gensim intelligently handles such corpora by *streaming* them one document at a time.\n",
    "  See `corpus_streaming_tutorial` for details.\n",
    "\n",
    "This is a particularly small example of a corpus for illustration purposes.\n",
    "Another example could be a list of all the plays written by Shakespeare, list\n",
    "of all wikipedia articles, or all tweets by a particular person of interest.\n",
    "\n",
    "After collecting our corpus, there are typically a number of preprocessing\n",
    "steps we want to undertake. We'll keep it simple and just remove some\n",
    "commonly used English words (such as 'the') and words that occur only once in\n",
    "the corpus. In the process of doing so, we'll tokenize our data.\n",
    "Tokenization breaks up the documents into words (in this case using space as\n",
    "a delimiter).\n",
    "\n",
    ".. Important::\n",
    "  There are better ways to perform preprocessing than just lower-casing and\n",
    "  splitting by space.  Effective preprocessing is beyond the scope of this\n",
    "  tutorial: if you're interested, check out the\n",
    "  :py:func:`gensim.utils.simple_preprocess` function.\n",
    "\n",
    "\n"
   ]
  },
  {
   "cell_type": "code",
   "execution_count": 5,
   "metadata": {},
   "outputs": [
    {
     "name": "stdout",
     "output_type": "stream",
     "text": [
      "[['human', 'interface', 'computer'],\n",
      " ['survey', 'user', 'computer', 'system', 'response', 'time'],\n",
      " ['eps', 'user', 'interface', 'system'],\n",
      " ['system', 'human', 'system', 'eps'],\n",
      " ['user', 'response', 'time'],\n",
      " ['trees'],\n",
      " ['graph', 'trees'],\n",
      " ['graph', 'minors', 'trees'],\n",
      " ['graph', 'minors', 'survey']]\n"
     ]
    }
   ],
   "source": [
    "# Create a set of frequent words\n",
    "stoplist = set('for a of the and to in'.split(' '))\n",
    "# Lowercase each document, split it by white space and filter out stopwords\n",
    "texts = [[word for word in document.lower().split() if word not in stoplist]\n",
    "         for document in text_corpus]\n",
    "\n",
    "# Count word frequencies\n",
    "from collections import defaultdict\n",
    "frequency = defaultdict(int)\n",
    "for text in texts:\n",
    "    for token in text:\n",
    "        frequency[token] += 1\n",
    "\n",
    "# Only keep words that appear more than once\n",
    "processed_corpus = [[token for token in text if frequency[token] > 1] for text in texts]\n",
    "pprint.pprint(processed_corpus)"
   ]
  },
  {
   "cell_type": "markdown",
   "metadata": {},
   "source": [
    "Before proceeding, we want to associate each word in the corpus with a unique\n",
    "integer ID. We can do this using the :py:class:`gensim.corpora.Dictionary`\n",
    "class.  This dictionary defines the vocabulary of all words that our\n",
    "processing knows about.\n",
    "\n",
    "\n"
   ]
  },
  {
   "cell_type": "code",
   "execution_count": 6,
   "metadata": {},
   "outputs": [
    {
     "name": "stdout",
     "output_type": "stream",
     "text": [
      "Dictionary(12 unique tokens: ['computer', 'human', 'interface', 'response', 'survey']...)\n"
     ]
    }
   ],
   "source": [
    "from gensim import corpora\n",
    "\n",
    "dictionary = corpora.Dictionary(processed_corpus)\n",
    "print(dictionary)"
   ]
  },
  {
   "cell_type": "markdown",
   "metadata": {},
   "source": [
    "Because our corpus is small, there are only 12 different tokens in this\n",
    ":py:class:`gensim.corpora.Dictionary`. For larger corpuses, dictionaries that\n",
    "contains hundreds of thousands of tokens are quite common.\n",
    "\n",
    "\n"
   ]
  },
  {
   "cell_type": "markdown",
   "metadata": {},
   "source": [
    "\n",
    "Vector\n",
    "------\n",
    "\n",
    "To infer the latent structure in our corpus we need a way to represent\n",
    "documents that we can manipulate mathematically. One approach is to represent\n",
    "each document as a vector of *features*.\n",
    "For example, a single feature may be thought of as a question-answer pair:\n",
    "\n",
    "1. How many times does the word *splonge* appear in the document? Zero.\n",
    "2. How many paragraphs does the document consist of? Two.\n",
    "3. How many fonts does the document use? Five.\n",
    "\n",
    "The question is usually represented only by its integer id (such as `1`, `2` and `3`).\n",
    "The representation of this document then becomes a series of pairs like ``(1, 0.0), (2, 2.0), (3, 5.0)``.\n",
    "This is known as a *dense vector*, because it contains an explicit answer to each of the above questions.\n",
    "\n",
    "If we know all the questions in advance, we may leave them implicit\n",
    "and simply represent the document as ``(0, 2, 5)``.\n",
    "This sequence of answers is the **vector** for our document (in this case a 3-dimensional dense vector).\n",
    "For practical purposes, only questions to which the answer is (or\n",
    "can be converted to) a *single floating point number* are allowed in Gensim.\n",
    "\n",
    "In practice, vectors often consist of many zero values.\n",
    "To save memory, Gensim omits all vector elements with value 0.0.\n",
    "The above example thus becomes ``(2, 2.0), (3, 5.0)``.\n",
    "This is known as a *sparse vector* or *bag-of-words vector*.\n",
    "The values of all missing features in this sparse representation can be unambiguously resolved to zero, ``0.0``.\n",
    "\n",
    "Assuming the questions are the same, we can compare the vectors of two different documents to each other.\n",
    "For example, assume we are given two vectors ``(0.0, 2.0, 5.0)`` and ``(0.1, 1.9, 4.9)``.\n",
    "Because the vectors are very similar to each other, we can conclude that the documents corresponding to those vectors are similar, too.\n",
    "Of course, the correctness of that conclusion depends on how well we picked the questions in the first place.\n",
    "\n",
    "Another approach to represent a document as a vector is the *bag-of-words\n",
    "model*.\n",
    "Under the bag-of-words model each document is represented by a vector\n",
    "containing the frequency counts of each word in the dictionary.\n",
    "For example, assume we have a dictionary containing the words\n",
    "``['coffee', 'milk', 'sugar', 'spoon']``.\n",
    "A document consisting of the string ``\"coffee milk coffee\"`` would then\n",
    "be represented by the vector ``[2, 1, 0, 0]`` where the entries of the vector\n",
    "are (in order) the occurrences of \"coffee\", \"milk\", \"sugar\" and \"spoon\" in\n",
    "the document. The length of the vector is the number of entries in the\n",
    "dictionary. One of the main properties of the bag-of-words model is that it\n",
    "completely ignores the order of the tokens in the document that is encoded,\n",
    "which is where the name bag-of-words comes from.\n",
    "\n",
    "Our processed corpus has 12 unique words in it, which means that each\n",
    "document will be represented by a 12-dimensional vector under the\n",
    "bag-of-words model. We can use the dictionary to turn tokenized documents\n",
    "into these 12-dimensional vectors. We can see what these IDs correspond to:\n",
    "\n",
    "\n"
   ]
  },
  {
   "cell_type": "code",
   "execution_count": 7,
   "metadata": {},
   "outputs": [
    {
     "name": "stdout",
     "output_type": "stream",
     "text": [
      "{'computer': 0,\n",
      " 'eps': 8,\n",
      " 'graph': 10,\n",
      " 'human': 1,\n",
      " 'interface': 2,\n",
      " 'minors': 11,\n",
      " 'response': 3,\n",
      " 'survey': 4,\n",
      " 'system': 5,\n",
      " 'time': 6,\n",
      " 'trees': 9,\n",
      " 'user': 7}\n"
     ]
    }
   ],
   "source": [
    "pprint.pprint(dictionary.token2id)"
   ]
  },
  {
   "cell_type": "markdown",
   "metadata": {},
   "source": [
    "For example, suppose we wanted to vectorize the phrase \"Human computer\n",
    "interaction\" (note that this phrase was not in our original corpus). We can\n",
    "create the bag-of-word representation for a document using the ``doc2bow``\n",
    "method of the dictionary, which returns a sparse representation of the word\n",
    "counts:\n",
    "\n",
    "\n"
   ]
  },
  {
   "cell_type": "code",
   "execution_count": 8,
   "metadata": {},
   "outputs": [
    {
     "name": "stdout",
     "output_type": "stream",
     "text": [
      "[(0, 1), (1, 1)]\n"
     ]
    }
   ],
   "source": [
    "new_doc = \"Human computer interaction\"\n",
    "new_vec = dictionary.doc2bow(new_doc.lower().split())\n",
    "print(new_vec)"
   ]
  },
  {
   "cell_type": "markdown",
   "metadata": {},
   "source": [
    "The first entry in each tuple corresponds to the ID of the token in the\n",
    "dictionary, the second corresponds to the count of this token.\n",
    "\n",
    "Note that \"interaction\" did not occur in the original corpus and so it was\n",
    "not included in the vectorization. Also note that this vector only contains\n",
    "entries for words that actually appeared in the document. Because any given\n",
    "document will only contain a few words out of the many words in the\n",
    "dictionary, words that do not appear in the vectorization are represented as\n",
    "implicitly zero as a space saving measure.\n",
    "\n",
    "We can convert our entire original corpus to a list of vectors:\n",
    "\n",
    "\n"
   ]
  },
  {
   "cell_type": "code",
   "execution_count": 9,
   "metadata": {},
   "outputs": [
    {
     "name": "stdout",
     "output_type": "stream",
     "text": [
      "[[(0, 1), (1, 1), (2, 1)],\n",
      " [(0, 1), (3, 1), (4, 1), (5, 1), (6, 1), (7, 1)],\n",
      " [(2, 1), (5, 1), (7, 1), (8, 1)],\n",
      " [(1, 1), (5, 2), (8, 1)],\n",
      " [(3, 1), (6, 1), (7, 1)],\n",
      " [(9, 1)],\n",
      " [(9, 1), (10, 1)],\n",
      " [(9, 1), (10, 1), (11, 1)],\n",
      " [(4, 1), (10, 1), (11, 1)]]\n"
     ]
    }
   ],
   "source": [
    "bow_corpus = [dictionary.doc2bow(text) for text in processed_corpus]\n",
    "pprint.pprint(bow_corpus)"
   ]
  },
  {
   "cell_type": "markdown",
   "metadata": {},
   "source": [
    "Note that while this list lives entirely in memory, in most applications you\n",
    "will want a more scalable solution. Luckily, ``gensim`` allows you to use any\n",
    "iterator that returns a single document vector at a time. See the\n",
    "documentation for more details.\n",
    "\n",
    ".. Important::\n",
    "  The distinction between a document and a vector is that the former is text,\n",
    "  and the latter is a mathematically convenient representation of the text.\n",
    "  Sometimes, people will use the terms interchangeably: for example, given\n",
    "  some arbitrary document ``D``, instead of saying \"the vector that\n",
    "  corresponds to document ``D``\", they will just say \"the vector ``D``\" or\n",
    "  the \"document ``D``\".  This achieves brevity at the cost of ambiguity.\n",
    "\n",
    "  As long as you remember that documents exist in document space, and that\n",
    "  vectors exist in vector space, the above ambiguity is acceptable.\n",
    "\n",
    ".. Important::\n",
    "  Depending on how the representation was obtained, two different documents\n",
    "  may have the same vector representations.\n",
    "\n",
    "\n",
    "Model\n",
    "-----\n",
    "\n",
    "Now that we have vectorized our corpus we can begin to transform it using\n",
    "*models*. We use model as an abstract term referring to a *transformation* from\n",
    "one document representation to another. In ``gensim`` documents are\n",
    "represented as vectors so a model can be thought of as a transformation\n",
    "between two vector spaces. The model learns the details of this\n",
    "transformation during training, when it reads the training\n",
    "`core_concepts_corpus`.\n",
    "\n",
    "One simple example of a model is `tf-idf\n",
    "<https://en.wikipedia.org/wiki/Tf%E2%80%93idf>`_.  The tf-idf model\n",
    "transforms vectors from the bag-of-words representation to a vector space\n",
    "where the frequency counts are weighted according to the relative rarity of\n",
    "each word in the corpus.\n",
    "\n",
    "Here's a simple example. Let's initialize the tf-idf model, training it on\n",
    "our corpus and transforming the string \"system minors\":\n",
    "\n",
    "\n"
   ]
  },
  {
   "cell_type": "code",
   "execution_count": 10,
   "metadata": {},
   "outputs": [
    {
     "name": "stdout",
     "output_type": "stream",
     "text": [
      "[(5, 0.5898341626740045), (11, 0.8075244024440723)]\n"
     ]
    }
   ],
   "source": [
    "from gensim import models\n",
    "\n",
    "# train the model\n",
    "tfidf = models.TfidfModel(bow_corpus)\n",
    "\n",
    "# transform the \"system minors\" string\n",
    "words = \"system minors\".lower().split()\n",
    "print(tfidf[dictionary.doc2bow(words)])"
   ]
  },
  {
   "cell_type": "markdown",
   "metadata": {},
   "source": [
    "The ``tfidf`` model again returns a list of tuples, where the first entry is\n",
    "the token ID and the second entry is the tf-idf weighting. Note that the ID\n",
    "corresponding to \"system\" (which occurred 4 times in the original corpus) has\n",
    "been weighted lower than the ID corresponding to \"minors\" (which only\n",
    "occurred twice).\n",
    "\n",
    "You can save trained models to disk and later load them back, either to\n",
    "continue training on new training documents or to transform new documents.\n",
    "\n",
    "``gensim`` offers a number of different models/transformations.\n",
    "For more, see `sphx_glr_auto_examples_core_run_topics_and_transformations.py`.\n",
    "\n",
    "Once you've created the model, you can do all sorts of cool stuff with it.\n",
    "For example, to transform the whole corpus via TfIdf and index it, in\n",
    "preparation for similarity queries:\n",
    "\n",
    "\n"
   ]
  },
  {
   "cell_type": "code",
   "execution_count": 11,
   "metadata": {},
   "outputs": [],
   "source": [
    "from gensim import similarities\n",
    "\n",
    "index = similarities.SparseMatrixSimilarity(tfidf[bow_corpus], num_features=12)"
   ]
  },
  {
   "cell_type": "markdown",
   "metadata": {},
   "source": [
    "and to query the similarity of our query document ``query_document`` against every document in the corpus:\n",
    "\n"
   ]
  },
  {
   "cell_type": "code",
   "execution_count": 12,
   "metadata": {},
   "outputs": [
    {
     "name": "stdout",
     "output_type": "stream",
     "text": [
      "[(0, 0.0), (1, 0.32448703), (2, 0.41707572), (3, 0.7184812), (4, 0.0), (5, 0.0), (6, 0.0), (7, 0.0), (8, 0.0)]\n"
     ]
    }
   ],
   "source": [
    "query_document = 'system engineering'.split()\n",
    "query_bow = dictionary.doc2bow(query_document)\n",
    "sims = index[tfidf[query_bow]]\n",
    "print(list(enumerate(sims)))"
   ]
  },
  {
   "cell_type": "markdown",
   "metadata": {},
   "source": [
    "How to read this output?\n",
    "Document 3 has a similarity score of 0.718=72%, document 2 has a similarity score of 42% etc.\n",
    "We can make this slightly more readable by sorting:\n",
    "\n"
   ]
  },
  {
   "cell_type": "code",
   "execution_count": 13,
   "metadata": {},
   "outputs": [
    {
     "name": "stdout",
     "output_type": "stream",
     "text": [
      "3 0.7184812\n",
      "2 0.41707572\n",
      "1 0.32448703\n",
      "0 0.0\n",
      "4 0.0\n",
      "5 0.0\n",
      "6 0.0\n",
      "7 0.0\n",
      "8 0.0\n"
     ]
    }
   ],
   "source": [
    "for document_number, score in sorted(enumerate(sims), key=lambda x: x[1], reverse=True):\n",
    "    print(document_number, score)"
   ]
  },
  {
   "cell_type": "markdown",
   "metadata": {},
   "source": [
    "Summary\n",
    "-------\n",
    "\n",
    "The core concepts of ``gensim`` are:\n",
    "\n",
    "1. `core_concepts_document`: some text.\n",
    "2. `core_concepts_corpus`: a collection of documents.\n",
    "3. `core_concepts_vector`: a mathematically convenient representation of a document.\n",
    "4. `core_concepts_model`: an algorithm for transforming vectors from one representation to another.\n",
    "\n",
    "We saw these concepts in action.\n",
    "First, we started with a corpus of documents.\n",
    "Next, we transformed these documents to a vector space representation.\n",
    "After that, we created a model that transformed our original vector representation to TfIdf.\n",
    "Finally, we used our model to calculate the similarity between some query document and all documents in the corpus.\n",
    "\n",
    "What Next?\n",
    "----------\n",
    "\n",
    "There's still much more to learn about `sphx_glr_auto_examples_core_run_corpora_and_vector_spaces.py`.\n",
    "\n"
   ]
  },
  {
   "cell_type": "code",
   "execution_count": 15,
   "metadata": {},
   "outputs": [
    {
     "data": {
      "image/png": "[encoded data removed]",
      "text/plain": [
       "<Figure size 432x288 with 1 Axes>"
      ]
     },
     "metadata": {
      "needs_background": "light"
     },
     "output_type": "display_data"
    }
   ],
   "source": [
    "import matplotlib.pyplot as plt\n",
    "import matplotlib.image as mpimg\n",
    "img = mpimg.imread('run_core_concepts.png')\n",
    "imgplot = plt.imshow(img)\n",
    "plt.axis('off')\n",
    "plt.show()"
   ]
  },
  {
   "cell_type": "code",
   "execution_count": null,
   "metadata": {},
   "outputs": [],
   "source": []
  }
 ],
 "metadata": {
  "kernelspec": {
   "display_name": "Python 3",
   "language": "python",
   "name": "python3"
  },
  "language_info": {
   "codemirror_mode": {
    "name": "ipython",
    "version": 3
   },
   "file_extension": ".py",
   "mimetype": "text/x-python",
   "name": "python",
   "nbconvert_exporter": "python",
   "pygments_lexer": "ipython3",
   "version": "3.7.6"
  }
 },
 "nbformat": 4,
 "nbformat_minor": 1
}
