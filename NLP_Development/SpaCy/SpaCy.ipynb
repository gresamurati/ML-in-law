{
 "cells": [
  {
   "cell_type": "raw",
   "metadata": {},
   "source": [
    "The Usurper: spaCy\n",
    "\n",
    "SpaCy is the new kid on the block, and it’s making quite a splash. It’s marketed as an “industrial-strength” Python NLP library that’s geared toward performance.\n",
    "\n",
    "SpaCy is minimal and opinionated, and it doesn’t flood you with options like NLTK does. Its philosophy is to only present one algorithm (the best one) for each purpose. You don’t have to make choices, and you can focus on being productive.\n",
    "\n",
    "Because it’s built on Cython, it’s also lightning-fast. Folks have called spaCy “state-of-the-art,” and it’s hard to disagree. Its main weakness is that it currently only supports English.\n",
    "\n",
    "SpaCy is newer, so its support community is not as large as some other libraries’. Yet, its approach to NLP is so compelling that it could possible dethrone NLTK.\n",
    "\n",
    "If you’re building a new application or revamping an old one (and you only need English support), then we strongly recommend trying spaCy."
   ]
  },
  {
   "cell_type": "markdown",
   "metadata": {},
   "source": [
    "https://spacy.io"
   ]
  },
  {
   "cell_type": "raw",
   "metadata": {},
   "source": [
    "Get things done\n",
    "\n",
    "spaCy is designed to help you do real work — to build real products, or gather real insights. The library respects your time, and tries to avoid wasting it. It's easy to install, and its API is simple and productive. We like to think of spaCy as the Ruby on Rails of Natural Language Processing."
   ]
  },
  {
   "cell_type": "raw",
   "metadata": {},
   "source": [
    "Blazing fast\n",
    "\n",
    "spaCy excels at large-scale information extraction tasks. It's written from the ground up in carefully memory-managed Cython. Independent research in 2015 found spaCy to be the fastest in the world. If your application needs to process entire web dumps, spaCy is the library you want to be using."
   ]
  },
  {
   "cell_type": "raw",
   "metadata": {},
   "source": [
    "Deep learning\n",
    "\n",
    "spaCy is the best way to prepare text for deep learning. It interoperates seamlessly with TensorFlow, PyTorch, scikit-learn, Gensim and the rest of Python's awesome AI ecosystem. With spaCy, you can easily construct linguistically sophisticated statistical models for a variety of NLP problems."
   ]
  },
  {
   "cell_type": "raw",
   "metadata": {},
   "source": [
    "# pip install spacy\n",
    "# python -m spacy download en_core_web_sm\n",
    "\n",
    "import spacy\n",
    "\n",
    "# Load English tokenizer, tagger, parser, NER and word vectors\n",
    "nlp = spacy.load(\"en_core_web_sm\")\n",
    "\n",
    "# Process whole documents\n",
    "text = (\"When Sebastian Thrun started working on self-driving cars at \"\n",
    "        \"Google in 2007, few people outside of the company took him \"\n",
    "        \"seriously. “I can tell you very senior CEOs of major American \"\n",
    "        \"car companies would shake my hand and turn away because I wasn’t \"\n",
    "        \"worth talking to,” said Thrun, in an interview with Recode earlier \"\n",
    "        \"this week.\")\n",
    "doc = nlp(text)\n",
    "\n",
    "# Analyze syntax\n",
    "print(\"Noun phrases:\", [chunk.text for chunk in doc.noun_chunks])\n",
    "print(\"Verbs:\", [token.lemma_ for token in doc if token.pos_ == \"VERB\"])\n",
    "\n",
    "# Find named entities, phrases and concepts\n",
    "for entity in doc.ents:\n",
    "    print(entity.text, entity.label_)"
   ]
  },
  {
   "cell_type": "code",
   "execution_count": 1,
   "metadata": {},
   "outputs": [],
   "source": [
    "import spacy"
   ]
  },
  {
   "cell_type": "code",
   "execution_count": 2,
   "metadata": {},
   "outputs": [],
   "source": [
    "# Load English tokenizer, tagger, parser, NER and word vectors\n",
    "nlp = spacy.load(\"en_core_web_sm\")"
   ]
  },
  {
   "cell_type": "code",
   "execution_count": 3,
   "metadata": {},
   "outputs": [],
   "source": [
    "# Process whole documents\n",
    "text = (\"When Sebastian Thrun started working on self-driving cars at \"\n",
    "        \"Google in 2007, few people outside of the company took him \"\n",
    "        \"seriously. “I can tell you very senior CEOs of major American \"\n",
    "        \"car companies would shake my hand and turn away because I wasn’t \"\n",
    "        \"worth talking to,” said Thrun, in an interview with Recode earlier \"\n",
    "        \"this week.\")"
   ]
  },
  {
   "cell_type": "code",
   "execution_count": 4,
   "metadata": {},
   "outputs": [],
   "source": [
    "doc = nlp(text)"
   ]
  },
  {
   "cell_type": "code",
   "execution_count": 7,
   "metadata": {},
   "outputs": [
    {
     "data": {
      "text/plain": [
       "When Sebastian Thrun started working on self-driving cars at Google in 2007, few people outside of the company took him seriously. “I can tell you very senior CEOs of major American car companies would shake my hand and turn away because I wasn’t worth talking to,” said Thrun, in an interview with Recode earlier this week."
      ]
     },
     "execution_count": 7,
     "metadata": {},
     "output_type": "execute_result"
    }
   ],
   "source": [
    "doc"
   ]
  },
  {
   "cell_type": "code",
   "execution_count": 5,
   "metadata": {},
   "outputs": [
    {
     "name": "stdout",
     "output_type": "stream",
     "text": [
      "Noun phrases: ['Sebastian Thrun', 'self-driving cars', 'Google', 'few people', 'the company', 'him', 'I', 'you', 'very senior CEOs', 'major American car companies', 'my hand', 'I', 'Thrun', 'an interview', 'Recode']\n",
      "Verbs: ['start', 'work', 'drive', 'take', 'can', 'tell', 'would', 'shake', 'turn', 'talk', 'say']\n"
     ]
    }
   ],
   "source": [
    "# Analyze syntax\n",
    "print(\"Noun phrases:\", [chunk.text for chunk in doc.noun_chunks])\n",
    "print(\"Verbs:\", [token.lemma_ for token in doc if token.pos_ == \"VERB\"])"
   ]
  },
  {
   "cell_type": "code",
   "execution_count": 8,
   "metadata": {},
   "outputs": [
    {
     "data": {
      "text/plain": [
       "['Sebastian Thrun',\n",
       " 'self-driving cars',\n",
       " 'Google',\n",
       " 'few people',\n",
       " 'the company',\n",
       " 'him',\n",
       " 'I',\n",
       " 'you',\n",
       " 'very senior CEOs',\n",
       " 'major American car companies',\n",
       " 'my hand',\n",
       " 'I',\n",
       " 'Thrun',\n",
       " 'an interview',\n",
       " 'Recode']"
      ]
     },
     "execution_count": 8,
     "metadata": {},
     "output_type": "execute_result"
    }
   ],
   "source": [
    "[chunk.text for chunk in doc.noun_chunks]"
   ]
  },
  {
   "cell_type": "code",
   "execution_count": 9,
   "metadata": {},
   "outputs": [
    {
     "data": {
      "text/plain": [
       "['start',\n",
       " 'work',\n",
       " 'drive',\n",
       " 'take',\n",
       " 'can',\n",
       " 'tell',\n",
       " 'would',\n",
       " 'shake',\n",
       " 'turn',\n",
       " 'talk',\n",
       " 'say']"
      ]
     },
     "execution_count": 9,
     "metadata": {},
     "output_type": "execute_result"
    }
   ],
   "source": [
    "[token.lemma_ for token in doc if token.pos_ == \"VERB\"]"
   ]
  },
  {
   "cell_type": "code",
   "execution_count": 6,
   "metadata": {},
   "outputs": [
    {
     "name": "stdout",
     "output_type": "stream",
     "text": [
      "Sebastian Thrun PERSON\n",
      "Google ORG\n",
      "2007 DATE\n",
      "American NORP\n",
      "Thrun PERSON\n",
      "Recode LOC\n",
      "earlier this week DATE\n"
     ]
    }
   ],
   "source": [
    "# Find named entities, phrases and concepts\n",
    "for entity in doc.ents:\n",
    "    print(entity.text, entity.label_)"
   ]
  },
  {
   "cell_type": "markdown",
   "metadata": {},
   "source": [
    "\"Facts\n",
    "    Thomas Jefferson defeated John Adams in the presidential election of 1800, which was decided on February 17, 1801. Before Jefferson took office on March 4, Adams and Congress passed the Judiciary Act of 1801, which created new district courts, expanded the number of circuit courts, added more judges to each circuit, gave the President more control over appointing federal judges, and reduced the number of Supreme Court Justices from six to five. This law essentially was an attempt by Adams and his political party to frustrate the incoming opposition, since he used his new power to appoint 16 new circuit judges and 42 new justices of the peace, a group known as the \"\"Midnight Judges.\"\" The incoming appointees were approved by the Adams Senate, but their appointments were not valid until each of their commissions was delivered by John Marshall in his capacity as acting Secretary of State.\n",
    "Justices of the peace were entitled to serve a term of five years. One of the new appointees was William Marbury, a long-standing supporter of Adams who received the position of justice of the peace in the District of Columbia. As was the case with a handful of other new appointees, Marshall failed to deliver Marbury's commission before Adams left office and was succeeded by Jefferson. With the change in administration, Marshall also left his position as Secretary of State and was succeeded by James Madison. However, Jefferson ordered acting Secretary of State Levi Lincoln to cease delivering the commissions, thus preventing the new appointees from taking their positions. He assumed that they could be considered void, since they were not delivered on time. The machinations did not end there, moreover. The Jefferson Congress proceeded to replace the Judiciary Act of 1801 with a new Judiciary Act of 1802 that essentially restored the initial Judiciary Act of 1789. It also sought to delay the Supreme Court in hearing the inevitable challenge to the constitutionality of Jefferson's maneuver by canceling its term in June 1802. Marbury then filed a writ of mandamus with the Supreme Court, asking it to order the executive branch to deliver his commission.\""
   ]
  },
  {
   "cell_type": "code",
   "execution_count": null,
   "metadata": {},
   "outputs": [],
   "source": []
  }
 ],
 "metadata": {
  "kernelspec": {
   "display_name": "Python 3",
   "language": "python",
   "name": "python3"
  },
  "language_info": {
   "codemirror_mode": {
    "name": "ipython",
    "version": 3
   },
   "file_extension": ".py",
   "mimetype": "text/x-python",
   "name": "python",
   "nbconvert_exporter": "python",
   "pygments_lexer": "ipython3",
   "version": "3.7.6"
  }
 },
 "nbformat": 4,
 "nbformat_minor": 4
}
